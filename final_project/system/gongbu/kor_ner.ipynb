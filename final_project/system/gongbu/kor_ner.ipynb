{
 "cells": [
  {
   "cell_type": "code",
   "execution_count": 6,
   "metadata": {},
   "outputs": [
    {
     "name": "stdout",
     "output_type": "stream",
     "text": [
      "[('1', 'NR'),\n",
      " ('시간', 'NNG'),\n",
      " ('알람', 'NNG'),\n",
      " ('맞치', 'VV'),\n",
      " ('어', 'ECS'),\n",
      " ('주', 'VXV'),\n",
      " ('어', 'ECS')]\n"
     ]
    }
   ],
   "source": [
    "from konlpy.tag import Kkma\n",
    "\n",
    "# Kkma 클래스 인스턴스 생성\n",
    "kkma = Kkma()\n",
    "\n",
    "# 텍스트 입력\n",
    "text = \"1시간 알람 맞쳐줘\"\n",
    "\n",
    "# 형태소 분석 및 개체명 추출\n",
    "morphs = kkma.pos(text)\n",
    "from pprint import pprint\n",
    "pprint(morphs)"
   ]
  },
  {
   "cell_type": "code",
   "execution_count": 14,
   "metadata": {},
   "outputs": [
    {
     "ename": "ModuleNotFoundError",
     "evalue": "No module named '_MeCab'",
     "output_type": "error",
     "traceback": [
      "\u001b[1;31m---------------------------------------------------------------------------\u001b[0m",
      "\u001b[1;31mModuleNotFoundError\u001b[0m                       Traceback (most recent call last)",
      "Cell \u001b[1;32mIn[14], line 1\u001b[0m\n\u001b[1;32m----> 1\u001b[0m \u001b[39mimport\u001b[39;00m \u001b[39mMeCab\u001b[39;00m\n\u001b[0;32m      3\u001b[0m \u001b[39m# MeCab 객체 생성\u001b[39;00m\n\u001b[0;32m      4\u001b[0m mecab \u001b[39m=\u001b[39m MeCab\u001b[39m.\u001b[39mTagger()\n",
      "File \u001b[1;32mc:\\Users\\korea\\anaconda3\\envs\\final_p\\Lib\\site-packages\\MeCab.py:12\u001b[0m\n\u001b[0;32m     10\u001b[0m     \u001b[39mfrom\u001b[39;00m \u001b[39m.\u001b[39;00m \u001b[39mimport\u001b[39;00m _MeCab\n\u001b[0;32m     11\u001b[0m \u001b[39melse\u001b[39;00m:\n\u001b[1;32m---> 12\u001b[0m     \u001b[39mimport\u001b[39;00m \u001b[39m_MeCab\u001b[39;00m\n\u001b[0;32m     14\u001b[0m \u001b[39mtry\u001b[39;00m:\n\u001b[0;32m     15\u001b[0m     \u001b[39mimport\u001b[39;00m \u001b[39mbuiltins\u001b[39;00m \u001b[39mas\u001b[39;00m \u001b[39m__builtin__\u001b[39;00m\n",
      "\u001b[1;31mModuleNotFoundError\u001b[0m: No module named '_MeCab'"
     ]
    }
   ],
   "source": [
    "import MeCab\n",
    "\n",
    "# MeCab 객체 생성\n",
    "mecab = MeCab.Tagger()\n",
    "\n",
    "# 텍스트 입력\n",
    "text = \"아이유는 대한민국의 가수이자 배우입니다.\"\n",
    "\n",
    "# 형태소 분석 수행\n",
    "result = mecab.parse(text)\n",
    "\n",
    "# 분석 결과 출력\n",
    "print(result)"
   ]
  }
 ],
 "metadata": {
  "kernelspec": {
   "display_name": "final_p",
   "language": "python",
   "name": "python3"
  },
  "language_info": {
   "codemirror_mode": {
    "name": "ipython",
    "version": 3
   },
   "file_extension": ".py",
   "mimetype": "text/x-python",
   "name": "python",
   "nbconvert_exporter": "python",
   "pygments_lexer": "ipython3",
   "version": "3.11.4"
  },
  "orig_nbformat": 4
 },
 "nbformat": 4,
 "nbformat_minor": 2
}
