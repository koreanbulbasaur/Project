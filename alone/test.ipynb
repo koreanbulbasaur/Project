{
 "cells": [
  {
   "cell_type": "code",
   "execution_count": 1,
   "metadata": {},
   "outputs": [],
   "source": [
    "import cv2\n",
    "import mediapipe as mp\n",
    "import numpy as np\n",
    "import time\n",
    "from PIL import ImageFont, ImageDraw, Image\n",
    "import random"
   ]
  },
  {
   "cell_type": "markdown",
   "metadata": {},
   "source": [
    "### 투명 처리"
   ]
  },
  {
   "cell_type": "code",
   "execution_count": 2,
   "metadata": {},
   "outputs": [],
   "source": [
    "def overlay(frame, x, y, w, h, overlay_image):\n",
    "    overlay_image_resized = cv2.resize(overlay_image, (w, h))\n",
    "    alpha = overlay_image_resized[:, :, 3]\n",
    "    mask_image = alpha / 255.0\n",
    "\n",
    "    for c in range(0, 3): # channel BGR\n",
    "        frame[y:y+h, x:x+w, c] = (overlay_image_resized[:, :, c] * mask_image) + (frame[y:y+h, x:x+w, c] * (1 - mask_image))"
   ]
  },
  {
   "cell_type": "markdown",
   "metadata": {},
   "source": [
    "### 코덱 정의"
   ]
  },
  {
   "cell_type": "code",
   "execution_count": 3,
   "metadata": {},
   "outputs": [],
   "source": [
    "cap = cv2.VideoCapture(0)\n",
    "\n",
    "fourcc = cv2.VideoWriter_fourcc(*'DIVX')\n",
    "\n",
    "width = round(cap.get(cv2.CAP_PROP_FRAME_WIDTH))\n",
    "height = round(cap.get(cv2.CAP_PROP_FRAME_HEIGHT))\n",
    "fps = cap.get(cv2.CAP_PROP_FPS)\n",
    "\n",
    "out = cv2.VideoWriter('output.avi', fourcc, fps, (width, height))"
   ]
  },
  {
   "cell_type": "markdown",
   "metadata": {},
   "source": [
    "### 이미지 파일들"
   ]
  },
  {
   "cell_type": "code",
   "execution_count": 4,
   "metadata": {},
   "outputs": [],
   "source": [
    "ai = cv2.imread('./img/ai.png')\n",
    "ai_smile = cv2.imread('./img/ai_smile.jpg')\n",
    "ai_ggang = cv2.imread('./img/ai_ggang.png')\n",
    "cloud = cv2.imread('./img/cloud.png', cv2.IMREAD_UNCHANGED)"
   ]
  },
  {
   "cell_type": "markdown",
   "metadata": {},
   "source": [
    "이미지 크기 조정"
   ]
  },
  {
   "cell_type": "code",
   "execution_count": 5,
   "metadata": {},
   "outputs": [],
   "source": [
    "resize = (200, 200)\n",
    "ai = cv2.resize(ai, resize)\n",
    "ai_smile = cv2.resize(ai_smile, resize)\n",
    "ai_ggang = cv2.resize(ai_ggang, resize)\n",
    "cloud = cv2.resize(cloud, (600, 150))"
   ]
  },
  {
   "cell_type": "code",
   "execution_count": 6,
   "metadata": {},
   "outputs": [
    {
     "name": "stdout",
     "output_type": "stream",
     "text": [
      "(200, 200, 3)\n",
      "(200, 200, 3)\n",
      "(200, 200, 3)\n"
     ]
    }
   ],
   "source": [
    "print(ai.shape)\n",
    "print(ai_smile.shape)\n",
    "print(ai_ggang.shape)"
   ]
  },
  {
   "cell_type": "markdown",
   "metadata": {},
   "source": [
    "cv2.imshow('ai', ai)  \n",
    "cv2.imshow('ai_smile', ai_smile)  \n",
    "cv2.imshow('ai_ggang', ai_ggang)  \n",
    "cv2.imshow('cloud', cloud)  \n",
    "\n",
    "cv2.waitKey(0)  \n",
    "\n",
    "cv2.destroyAllWindows()  "
   ]
  },
  {
   "cell_type": "code",
   "execution_count": 7,
   "metadata": {},
   "outputs": [],
   "source": [
    "cv2.namedWindow('Game', cv2.WINDOW_NORMAL)\n",
    "cv2.resizeWindow('Game', 800, 800)\n",
    "\n",
    "if not cap.isOpened():\n",
    "    exit()\n",
    "\n",
    "while 1:\n",
    "    ret, frame = cap.read()\n",
    "\n",
    "    # 화면 좌우 대칭\n",
    "    frame = cv2.flip(frame, 1)\n",
    "\n",
    "    if not ret:\n",
    "        break\n",
    "\n",
    "    frame = cv2.resize(frame, (800, 800))\n",
    "\n",
    "    # ai 사진\n",
    "    frame[600:800, 0:200] = ai\n",
    "\n",
    "    # 말풍선 사진\n",
    "    overlay(frame, 200, 600, 600, 200, cloud)\n",
    "\n",
    "    cv2.imshow('Game', frame)\n",
    "\n",
    "    if cv2.waitKey(1) == ord('q'):\n",
    "        break\n",
    "\n",
    "cv2.destroyAllWindows()"
   ]
  },
  {
   "cell_type": "code",
   "execution_count": null,
   "metadata": {},
   "outputs": [],
   "source": [
    "import time\n",
    "\n",
    "start_time = time.time()\n",
    "\n",
    "if time.time() - start_time >= 1"
   ]
  }
 ],
 "metadata": {
  "kernelspec": {
   "display_name": "Python 3",
   "language": "python",
   "name": "python3"
  },
  "language_info": {
   "codemirror_mode": {
    "name": "ipython",
    "version": 3
   },
   "file_extension": ".py",
   "mimetype": "text/x-python",
   "name": "python",
   "nbconvert_exporter": "python",
   "pygments_lexer": "ipython3",
   "version": "3.11.3"
  },
  "orig_nbformat": 4
 },
 "nbformat": 4,
 "nbformat_minor": 2
}
