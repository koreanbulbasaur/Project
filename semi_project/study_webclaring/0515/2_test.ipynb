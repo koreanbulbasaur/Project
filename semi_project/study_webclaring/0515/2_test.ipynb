{
 "cells": [
  {
   "cell_type": "code",
   "execution_count": 1,
   "metadata": {},
   "outputs": [
    {
     "name": "stdout",
     "output_type": "stream",
     "text": [
      "\n",
      "<html>\n",
      " <head>\n",
      "  <title>\n",
      "   The Dormouse's story\n",
      "  </title>\n",
      " </head>\n",
      " <body>\n",
      "  <p class=\"title\">\n",
      "   <b>\n",
      "    The Dormouse's story\n",
      "   </b>\n",
      "  </p>\n",
      "  <p class=\"story\">\n",
      "   Once upon a time there were three little sisters; and their names were\n",
      "   <a class=\"sister\" href=\"http://example.com/elsie\" id=\"link1\">\n",
      "    Elsie\n",
      "   </a>\n",
      "   ,\n",
      "   <a class=\"sister\" href=\"http://example.com/lacie\" id=\"link2\">\n",
      "    Lacie\n",
      "   </a>\n",
      "   and\n",
      "   <a class=\"sister\" href=\"http://example.com/tillie\" id=\"link3\">\n",
      "    Tillie\n",
      "   </a>\n",
      "   ; and they lived at the bottom of a well.\n",
      "  </p>\n",
      "  <p class=\"story\">\n",
      "   ...\n",
      "  </p>\n",
      " </body>\n",
      "</html>\n",
      "\n"
     ]
    }
   ],
   "source": [
    "from bs4 import BeautifulSoup\n",
    "\n",
    "html_doc = '''\n",
    "<html>\n",
    " <head>\n",
    "  <title>\n",
    "   The Dormouse's story\n",
    "  </title>\n",
    " </head>\n",
    " <body>\n",
    "  <p class=\"title\">\n",
    "   <b>\n",
    "    The Dormouse's story\n",
    "   </b>\n",
    "  </p>\n",
    "  <p class=\"story\">\n",
    "   Once upon a time there were three little sisters; and their names were\n",
    "   <a class=\"sister\" href=\"http://example.com/elsie\" id=\"link1\">\n",
    "    Elsie\n",
    "   </a>\n",
    "   ,\n",
    "   <a class=\"sister\" href=\"http://example.com/lacie\" id=\"link2\">\n",
    "    Lacie\n",
    "   </a>\n",
    "   and\n",
    "   <a class=\"sister\" href=\"http://example.com/tillie\" id=\"link3\">\n",
    "    Tillie\n",
    "   </a>\n",
    "   ; and they lived at the bottom of a well.\n",
    "  </p>\n",
    "  <p class=\"story\">\n",
    "   ...\n",
    "  </p>\n",
    " </body>\n",
    "</html>\n",
    "'''\n",
    "\n",
    "print(html_doc)"
   ]
  },
  {
   "cell_type": "code",
   "execution_count": 2,
   "metadata": {},
   "outputs": [
    {
     "data": {
      "text/plain": [
       "str"
      ]
     },
     "execution_count": 2,
     "metadata": {},
     "output_type": "execute_result"
    }
   ],
   "source": [
    "type(html_doc)"
   ]
  },
  {
   "attachments": {},
   "cell_type": "markdown",
   "metadata": {},
   "source": [
    "str -> html tag type transper"
   ]
  },
  {
   "cell_type": "code",
   "execution_count": 3,
   "metadata": {},
   "outputs": [
    {
     "data": {
      "text/plain": [
       "<html>\n",
       "<head>\n",
       "<title>\n",
       "   The Dormouse's story\n",
       "  </title>\n",
       "</head>\n",
       "<body>\n",
       "<p class=\"title\">\n",
       "<b>\n",
       "    The Dormouse's story\n",
       "   </b>\n",
       "</p>\n",
       "<p class=\"story\">\n",
       "   Once upon a time there were three little sisters; and their names were\n",
       "   <a class=\"sister\" href=\"http://example.com/elsie\" id=\"link1\">\n",
       "    Elsie\n",
       "   </a>\n",
       "   ,\n",
       "   <a class=\"sister\" href=\"http://example.com/lacie\" id=\"link2\">\n",
       "    Lacie\n",
       "   </a>\n",
       "   and\n",
       "   <a class=\"sister\" href=\"http://example.com/tillie\" id=\"link3\">\n",
       "    Tillie\n",
       "   </a>\n",
       "   ; and they lived at the bottom of a well.\n",
       "  </p>\n",
       "<p class=\"story\">\n",
       "   ...\n",
       "  </p>\n",
       "</body>\n",
       "</html>"
      ]
     },
     "execution_count": 3,
     "metadata": {},
     "output_type": "execute_result"
    }
   ],
   "source": [
    "soup = BeautifulSoup(html_doc)\n",
    "soup"
   ]
  },
  {
   "cell_type": "code",
   "execution_count": 4,
   "metadata": {},
   "outputs": [
    {
     "name": "stdout",
     "output_type": "stream",
     "text": [
      "<title>\n",
      "   The Dormouse's story\n",
      "  </title>\n"
     ]
    }
   ],
   "source": [
    "print(soup.title)"
   ]
  },
  {
   "cell_type": "code",
   "execution_count": 5,
   "metadata": {},
   "outputs": [
    {
     "name": "stdout",
     "output_type": "stream",
     "text": [
      "title\n"
     ]
    }
   ],
   "source": [
    "print(soup.title.name)"
   ]
  },
  {
   "cell_type": "code",
   "execution_count": 6,
   "metadata": {},
   "outputs": [
    {
     "name": "stdout",
     "output_type": "stream",
     "text": [
      "\n",
      "   The Dormouse's story\n",
      "  \n"
     ]
    }
   ],
   "source": [
    "print(soup.title.string)"
   ]
  },
  {
   "cell_type": "code",
   "execution_count": 7,
   "metadata": {},
   "outputs": [
    {
     "data": {
      "text/plain": [
       "'head'"
      ]
     },
     "execution_count": 7,
     "metadata": {},
     "output_type": "execute_result"
    }
   ],
   "source": [
    "soup.title.parent.name"
   ]
  },
  {
   "cell_type": "code",
   "execution_count": 8,
   "metadata": {},
   "outputs": [
    {
     "data": {
      "text/plain": [
       "<p class=\"title\">\n",
       "<b>\n",
       "    The Dormouse's story\n",
       "   </b>\n",
       "</p>"
      ]
     },
     "execution_count": 8,
     "metadata": {},
     "output_type": "execute_result"
    }
   ],
   "source": [
    "soup.p"
   ]
  },
  {
   "cell_type": "code",
   "execution_count": 9,
   "metadata": {},
   "outputs": [
    {
     "data": {
      "text/plain": [
       "['title']"
      ]
     },
     "execution_count": 9,
     "metadata": {},
     "output_type": "execute_result"
    }
   ],
   "source": [
    "soup.p['class']"
   ]
  },
  {
   "cell_type": "code",
   "execution_count": 10,
   "metadata": {},
   "outputs": [
    {
     "data": {
      "text/plain": [
       "[<a class=\"sister\" href=\"http://example.com/elsie\" id=\"link1\">\n",
       "     Elsie\n",
       "    </a>,\n",
       " <a class=\"sister\" href=\"http://example.com/lacie\" id=\"link2\">\n",
       "     Lacie\n",
       "    </a>,\n",
       " <a class=\"sister\" href=\"http://example.com/tillie\" id=\"link3\">\n",
       "     Tillie\n",
       "    </a>]"
      ]
     },
     "execution_count": 10,
     "metadata": {},
     "output_type": "execute_result"
    }
   ],
   "source": [
    "soup.find_all('a')"
   ]
  },
  {
   "cell_type": "code",
   "execution_count": 11,
   "metadata": {},
   "outputs": [
    {
     "name": "stdout",
     "output_type": "stream",
     "text": [
      "\n",
      "    Elsie\n",
      "   \n",
      "    Lacie\n",
      "   \n",
      "    Tillie\n",
      "   "
     ]
    }
   ],
   "source": [
    "for text in soup.find_all('a'):\n",
    "    print(text.get_text(), end='')"
   ]
  },
  {
   "cell_type": "code",
   "execution_count": 12,
   "metadata": {},
   "outputs": [
    {
     "name": "stdout",
     "output_type": "stream",
     "text": [
      "http://example.com/elsie\n",
      "http://example.com/lacie\n",
      "http://example.com/tillie\n"
     ]
    }
   ],
   "source": [
    "for text in soup.find_all('a'):\n",
    "    print(text.get('href'))"
   ]
  },
  {
   "cell_type": "code",
   "execution_count": 13,
   "metadata": {},
   "outputs": [
    {
     "name": "stdout",
     "output_type": "stream",
     "text": [
      "['sister']\n",
      "['sister']\n",
      "['sister']\n"
     ]
    }
   ],
   "source": [
    "for text in soup.find_all('a'):\n",
    "    print(text.get('class'))"
   ]
  },
  {
   "cell_type": "code",
   "execution_count": 14,
   "metadata": {},
   "outputs": [
    {
     "name": "stdout",
     "output_type": "stream",
     "text": [
      "\n",
      "    Tillie\n",
      "   \n"
     ]
    }
   ],
   "source": [
    "print(soup.find(id='link3').get_text())"
   ]
  },
  {
   "cell_type": "code",
   "execution_count": 15,
   "metadata": {},
   "outputs": [],
   "source": [
    "import requests"
   ]
  },
  {
   "cell_type": "code",
   "execution_count": 16,
   "metadata": {},
   "outputs": [
    {
     "data": {
      "text/plain": [
       "\"         현재상영영화순위 : 네이버 통합검색       메뉴 영역으로 바로가기 본문 영역으로 바로가기            검색                  한글 입력기     자동완성 레이어     최근검색어  전체삭제       @txt@   @date@. 삭제    검색어 저장 기능이 꺼져 있습니다.설정이 초기화 된다면 도움말을 확인해주세요. 최근 검색어 내역이 없습니다.설정이 초기화 된다면 도움말을 확인해주세요.    도움말    자동저장 끄기           @5@회 로또당첨번호  동행복권 제공     @6@@7@@8@@9@@10@@11@@12@       @14@  @txt@@currency@  @8@(@9@%)    @6@원        @txt@  @7@, @message@     @7@ @8@°         @txt@  @5@    바로가기       @txt@   추가     @txt@   @date@. 추가      @query@ @intend@   추가          자세히보기      관심사를 반영한 컨텍스트 자동완성도움말   컨텍스트 자동완성   컨텍스트 자동완성  ON/OFF 설정은해당기기(브라우저)에 저장됩니다.  자세히    동일한 시간대/연령/남녀별 사용자 그룹의관심사에 맞춰 자동완성을 제공합니다.  로그인 자세히   컨텍스트 자동완성 레이어 닫기      도움말 신고    자동완성 끄기        검색            통합VIEW이미지지식iN인플루언서동영상쇼핑뉴스어학사전지도     더보기    도서뮤직지식백과오디오클립학술정보  검색옵션        공유      현재상영영화순위 통합검색 결과       검색옵션 닫기    정렬  관련도순최신순      기간  전체1시간1일1주1개월3개월6개월1년 직접입력옵션펼치기접기     기간 설정시작       기간 설정끝      년(Year)          월(Month)          일(Day)           적용        옵션초기화 검색옵션 가이드             영화     월별개봉영화 현재상영영화 개봉예정영화 박스오피스    박스오피스     문서 저장하기   Keep에 저장 Keep 바로가기            흥행순 평점순              1    가디언즈 오브 갤럭시: Vo... 25만명         2    슈퍼 마리오 브라더스 8.6만명         3    극장판 짱구는 못말려: 동물... 5.1만명         4    드림 1.7만명         5    스즈메의 문단속 1.6만명         6    문재인입니다 1.1만명         7    존 윅 4 1만명         8    너의 이름은. 7,133명         9    더 퍼스트 슬램덩크 5,454명         10    롱디 5,288명         11    옥수역귀신 5,011명         12    메리 마이 데드 바디 4,506명         13    스트리머 2,681명         14    엑소시스트: 더 바티칸 2,138명         15    날씨의 아이 1,382명           16    거울 속 외딴 성 1,363명         17    뮤지컬 공연실황, 알쏭달쏭 ... 1,301명         18    유랑지구2 863명         19    리바운드 669명         20    토리와 로키타 633명         21    슬픔의 삼각형 605명         22    조제, 호랑이 그리고 물고기들 498명         23    킬링 로맨스 494명         24    클로즈 369명         25    2001 스페이스 오디세이 349명         26    칠중주: 홍콩 이야기 303명         27    항구의 니쿠코짱! 272명         28    남은 인생 10년 188명         29    삶과 죽음의 문제 170명         30    007 살인번호 159명          이전 현재1전체2 다음            1    롱디 9.71         2    가디언즈 오브 갤럭시: Vo... 9.42         3    더 퍼스트 슬램덩크 9.27         4    문재인입니다 9.15         5    너의 이름은. 9.01         6    극장판 짱구는 못말려: 동물... 8.84         7    거울 속 외딴 성 8.49         8    리바운드 8.48         9    슈퍼 마리오 브라더스 8.46         10    존 윅 4 8.40         11    날씨의 아이 8.39         12    조제, 호랑이 그리고 물고기들 8.15         13    항구의 니쿠코짱! 8.15         14    클로즈 8.12         15    스즈메의 문단속 8.09           16    토리와 로키타 7.78         17    킬링 로맨스 7.71         18    스트리머 7.52         19    드림 7.14         20    옥수역귀신 6.97          이전 현재1전체2 다음       2023.05.14. 일간 관객수 기준 정보확인 내용 열고 닫기   출처 : 영화진흥위원회 영화관 관람객 통합전산망 2023.05.15. 11:27 업데이트 정보확인 레이어 닫기      관람객 평점 기준 정보확인 내용 열고 닫기   출처 : 네이버 영화 실관람객 평점 10개 이상인 영화 순위 2023.05.15. 11:27 업데이트 정보확인 레이어 닫기    네이버 영화정보확인 내용 열고 닫기  네이버가 운영하는 영화 서비스입니다. 정보확인 레이어 닫기  다른 사이트 더보기             영화 인플루언서 콘텐츠           문서 저장하기  팬하기 Keep에 저장 Keep 바로가기     자동 팬하기를 방지하기 위해보안 절차를 거치고 있습니다. 아래 문자를 보이는 대로 입력해주세요.     음성으로 안내되고 있습니다시작음 3회 반복 후 재생    새로고침 음성으로 듣기 이미지로 보기       확인 다시 입력해주세요  닫기      나임상님의 팬이 되었습니다. '나의 피드'에서 팬한 소식을 모아 보세요.       더이상 나임상님의 팬이 아닙니다. 이제 알림을 받지 않습니다.                   마음에 든다면 팬이 되어보세요!     나임상 인플루언서   영화 전문블로거 2023.05.01.      세계 박스오피스 현재 상영 영화 순위 슈퍼 마리오 10억불                                                             이전 다음    <저마다년>은 현재 중국에서만 상영되고 있습니다. 월드 박스오피스 4위는 공포 영화 <이블 데드 라이즈>(2023)가 차지했는데요. 개봉 2주차를 마친 <이블 데드 라이즈>는 전주 대비 34.5% 감소한 2,640만불의 수입을 기록하며 두 계단 순위가 하락했죠. 웃음과 공포가 공존하는 기존의 <이블 데드> 시리즈를 그리워하는 팬들 때문에 호불호가 다소 엇갈리는 편이기는...     나임상의 #현재상영영화순위 참여 콘텐츠 더보기        문서 저장하기  팬하기 Keep에 저장 Keep 바로가기     자동 팬하기를 방지하기 위해보안 절차를 거치고 있습니다. 아래 문자를 보이는 대로 입력해주세요.     음성으로 안내되고 있습니다시작음 3회 반복 후 재생    새로고침 음성으로 듣기 이미지로 보기       확인 다시 입력해주세요  닫기      리쓰남님의 팬이 되었습니다. '나의 피드'에서 팬한 소식을 모아 보세요.       더이상 리쓰남님의 팬이 아닙니다. 이제 알림을 받지 않습니다.                     리쓰남 인플루언서   영화 전문블로거 2023.05.05.      요즘 볼만한 영화 가오갤3 슈퍼 마리오 브라더스 드림 관객수 현재 상영 영화 순위                                                             이전 다음    요즘 볼만한 영화 가오갤3 슈퍼 마리오 브라더스 드림 관객수 현재 상영 영화 순위 요즘 볼만한 영화 현재 상영 영화 순위 포스팅입니다. 국내외 신작들이 줄줄이 개봉하면서 모처럼 활기를 띠고 있는 한국 박스오피스인데요. <슈퍼 마리오 브라더스>와 <드림>이 1위 자리를 두고 한바탕 각축전을 벌였고, 두 영화가 조금씩 힘이 빠지고 있는 상황에서 <가디언즈 오브...     리쓰남의 #현재상영영화순위 참여 콘텐츠 더보기        문서 저장하기  팬하기 Keep에 저장 Keep 바로가기     자동 팬하기를 방지하기 위해보안 절차를 거치고 있습니다. 아래 문자를 보이는 대로 입력해주세요.     음성으로 안내되고 있습니다시작음 3회 반복 후 재생    새로고침 음성으로 듣기 이미지로 보기       확인 다시 입력해주세요  닫기      집하남님의 팬이 되었습니다. '나의 피드'에서 팬한 소식을 모아 보세요.       더이상 집하남님의 팬이 아닙니다. 이제 알림을 받지 않습니다.                     집하남 인플루언서   영화 전문블로거 2023.05.08.      2023년 5월 최신 개봉 영화 박스오피스 현재 상영 영화 순위 및 예매                                                             이전 다음    오늘은 5월 8일자 박스오피스 현재 상영 영화 순위 및 예매 순위에 대해서 알아보도록 하겠습니다. 영화 예매 순위 1. 가디언즈 오브 갤럭시 2. 분노의 질주 3. 롱디 4. 문재인입니다. 5. 메리 마이 데드 바디 CGV 홈페이지 여전히 압도적인 예매율을 보여주는 가디언즈 오브 갤럭시 Volume 3가 1위를 달리고 있습니다. 그리고 5월 17일에 개봉하는 스피드 시리즈 영화 분노의...     집하남의 #현재상영영화순위 참여 콘텐츠 더보기         인플루언서 참여 콘텐츠 더보기       현재상영 영화 관객수           문서 저장하기  Keep에 저장 Keep 바로가기        백현지 인플루언서 2023.01.21.      2023년 1월 현재상영영화 관객수 순위                                                        이전 다음    옛날에 TVA를 재밌게 봤던 세대와 더불어 지금의 10대에 해당되는 알파세대까지 다같이 흥미롭게 볼만한 극장판 스포츠 애니메이션인 것 같습니다🙂 2023년 1월 현재상영영화순위 4위는 '장화신은 고양이: 끝내주는 모험'. 저는 전편보다 이번편에 담긴 메시지가 더 맘에 들더라구요. 1편을 극장에서 관람하고 느낌이 나쁘지 않았다면, 본작은 좀더 재밌게 감상할...          문서 저장하기  Keep에 저장 Keep 바로가기        루피형아 인플루언서 2023.04.06.       9   [개봉예정영화] <곰돌이 푸: 피와 꿀> 정보 출연진 - 관객수 천만 명 가능할까? (공포영화 추천) 영화 <곰돌이 푸: 피와 꿀> 메인 예고편 그 외 현재상영작 추천 및 리뷰 [영화리뷰] <리바운드> 후기 정보 출연진 결말 해석 - 실화가 보여준 슬램덩크 실사판 (한국 영화 추천) 리바운드 (2023.04.05) 장항준 (감독) 안재홍 / 이신영 / 정진운 / 김택 / 정건주 / 김민 / 안지호 드라마 ... blog.naver.com [영화리뷰] <모나리자와 블러드 문> 후기 정보 결말 해석 - 자유를 향한...        함께 볼만한 검색어 이 정보가 표시된 이유  문서를 기반으로 함께 볼만한 검색어를 분석하여 제공하는 서비스입니다.   피드백 제공하기 도움말  정보확인 레이어 닫기             곰돌이 푸: 피와 꿀       이전 다음   함께 볼만한 검색어 닫기       문서 저장하기  Keep에 저장 Keep 바로가기        처뤼 인플루언서 2023.03.27.       15   [스즈메의 문단속] 300만명 돌파! '신카이 마코토' 감독 4월 27일 내한 약속 지킨다, <너의 이름은>과 <더 퍼스트 슬램덩크> 20일차 관객수 비교 정보 일본 영화 흥행 1위를 유지했었던 <너의 이름은>은 개봉 19일에 300만 명을 돌파했습니다. 현재 <스즈메의 문단속>보다... 그리고 아직도 상영 중이기에 최종 관객 수는 아니고, 어제까지 동원한 총관객 수는 약 427만 명입니다. 오늘이나 내일... [영화순위] 2023년 1분기 관객수 TOP 10-일본 애니의 흥행 점령과 한국 영화의 대 참패의 극장가(스즈메의 문단속은 2위)...        함께 볼만한 검색어 이 정보가 표시된 이유  문서를 기반으로 함께 볼만한 검색어를 분석하여 제공하는 서비스입니다.   피드백 제공하기 도움말  정보확인 레이어 닫기             스즈메의 문단속           너의 이름은.           더 퍼스트 슬램덩크       이전 다음   함께 볼만한 검색어 닫기        현재상영 영화 관객수 더보기       '현재상영영화순위' 인기글           문서 저장하기  Keep에 저장 Keep 바로가기        백현지 인플루언서 2023.02.16.      2023년 2월 현재상영영화 순위 평점순                                                   이전 다음    궁금하면 직접 감상해보시길🤫 5/6 현재상영영화순위 5위는 이동진 평론가가 별점 5점을 남긴 '애프터썬'(4.0), 6위 '다음 소희'(3.8). '다음 소희'는 2017년 전주에서 벌어진 콜센터 현장실습생 사건 실화를 소재로 정주리 감독이 연출과 각본을 담당, 배우 김시은 배두나가 주연으로 등장합니다. 7/8 이쯤되니 포스터만 봐도 이젠 들어갔으면 싶은 '아바타 물의길'(3....          문서 저장하기  Keep에 저장 Keep 바로가기        임스 인플루언서 2023.03.20.       6   11주차 현재상영영화 순위 - 요즘 볼만한 최신 영화 추천 TOP 4 11주차 현재상영영화 TOP 4 임스의 무비 차트 11주차 임스의 무비 차트 시간입니다. 지난주에는 어떤 영화를 보셨나요? 극장가가 비수기이기도 하지만, 전체적으로 평균 관객 수가... 당분간 박스오피스에서 이 두 영화의 대결이 시선을 모으지 않을까 싶습니다. 다음 주 무비 차트에서 순위 변화를 확인하세요! 임스의 무비 톡이었습니다 : ) 스즈메의 문단속...        함께 볼만한 검색어 이 정보가 표시된 이유  문서를 기반으로 함께 볼만한 검색어를 분석하여 제공하는 서비스입니다.   피드백 제공하기 도움말  정보확인 레이어 닫기             스즈메의 문단속           더 퍼스트 슬램덩크           소울메이트           샤잠! 신들의 분노       이전 다음   함께 볼만한 검색어 닫기       문서 저장하기  Keep에 저장 Keep 바로가기        아론 인플루언서 2023.04.17.       7   박스오피스 TOP 5 현재 상영 영화 순위와 한 줄 평가 현재 상영 영화 순위와 한 줄 평가 올 초부터 이어진 일본 애니메이션 영화의 광풍이 멈출 줄 모르는 가운데, 최근 개봉한 신작들의 경쟁이 더욱 치열해지고 있습니다. 이번 포스팅에서는 현재 상영 영화 순위를 알아보고, 간단한 한 줄 평가를 정리해 보려고 하는데요. 1월부터 상영하고 있는 <더 퍼스트 슬램덩크>는 신작이라고 보기 어려울 만큼...        함께 볼만한 검색어 이 정보가 표시된 이유  문서를 기반으로 함께 볼만한 검색어를 분석하여 제공하는 서비스입니다.   피드백 제공하기 도움말  정보확인 레이어 닫기             존 윅 4           스즈메의 문단속           리바운드           킬링 로맨스           거울 속 외딴 성       이전 다음   함께 볼만한 검색어 닫기        '현재상영영화순위' 인기글 더보기      문서 저장하기Keep에 저장\\nKeep 바로가기\\nmovie.daum.net›premovie상영 | 예정작 - 다음 영화영화관 현재상영 개봉예정영화 뉴스 연예 스포츠 자동차 로그인 홈 랭킹 상영/예정작 영화관 넷플릭스 왓챠 콘텐츠 홈 랭킹 상영예정작 콘텐츠 다음뉴스 소개 공지사항 게시물 운영원칙 서비스 약관/정책 뉴스제휴 비즈니스 권리침해신고 영화 고객센터 24시간 뉴스센터 서비스원칙 기사배열책임자 : 황유지 청소년보호책임자 : 손성희 위 내용에...문서 저장하기Keep에 저장\\nKeep 바로가기\\nnalnal.tistory.com›현재-상영-중인-영화-순위-20201016-기준현재 상영 중인 영화 순위 (2020.10.16 기준)2020.10.16.\\n현재 상영 중인 영화 순위 (2020년 10월 16일 기준) 안녕하세요. 최근 사회적 거리두기가 1단계로 하향 조정되면서 영화관이나 스포츠 경기장 등이 다시 활기를 띄고 있는 모습입니다. 정말 다행스러운 일이라고 생각되는데요. 영화 마니아 분들께도 기쁜 소식일 것 같습니다. 오늘 알아볼 현재 상영 영화 순위 정보는 날짜 2020년 10월 16일 기준입...문서 저장하기Keep에 저장\\nKeep 바로가기\\ndkqenfwkqk.tistory.com현재 상영 중인 흥행 영화순위 알려드려요.2018.11.10.\\n전율이 오는 감동적인 영화입니다. 3위 동네사람들 누적관객수 16만명 장르 - 액션, 스릴러 관람객 평점 7.62 감독 - 임진순 상영 시간 - 99분 출연진 - 마동석, 김새론, 장광, 이상엽, 신세휘, 진선규, 오희준 스토리 - 여고생이 사라졌지만 너무나 평온한 시골의 한적한 마을, 기간제 교사로 새로 부임 온 외지 출신 체육교사 기철은 동네 분위기가 심상치 않음을 감지한다....문서 저장하기Keep에 저장\\nKeep 바로가기\\nsalejubu.tistory.com[박스오피스 관객수] 3월 28일(목) 현재상영영화순위, 어스 1위 개봉일 이틀만에 30만 관객수 돌파…돈·캡틴마블....2019.03.29.\\n[박스오피스 관객수] 3월 28일(목) 현재상영영화순위, 어스 1위 개봉일 이틀만에 30만 관객수 돌파…돈·캡틴마블·장난스런키스 관객수는 얼마? 출처:/ 영화 '어스' 포스터 박스오피스 3월 28일(목) 현재상영..검색결과 더보기\\n\\n\\n\\n\\n파워링크\\n\\n‘현재상영영화순위’\\n관련 광고입니다.\\n이 광고가 표시된 이유\\n\\n광고 노출기준은 검색어에 대한 연관성과 광고주의 입찰가이며,\\n            이미지 등 추가 링크는 등록한 경우에만 기준에 따라 노출됩니다. 도움말\\n안내 레이어 닫기\\n\\n\\n등록 안내\\n\\n\\n\\n\\n\\n\\n\\n\\n\\n현재상영영화순위 파일썬초고속, 고화질 SUN택해!\\n\\n\\n광고\\nfilesun.pro\\n\\n\\n방송사 콘텐츠 100원부터! 최신 영화, 드라마, 애니, 현재상영영화순위 빠르게!\\n\\n\\n이벤트\\n              신규가입 첫 달 100원!\\n            \\n\\n\\n\\n\\n\\n\\n\\n\\n현재상영영화순위 올플즈누구나 첫 달 무료!\\n\\n\\n광고\\nallplz.me\\n\\n\\n싸다! 빠르다! 최신 영화, 드라마, 애니, 현재상영영화순위 실시간 업데이트!\\n\\n\\n이벤트\\n              신규가입! 30일 무료!\\n            \\n\\n\\n\\n\\n\\n\\n\\n\\n빠르고 안전한다운! 파일마루영화/애니/방송 초고속 다운\\n\\n\\n광고\\nfilemaru.pe.kr\\n\\n\\n최신인기 HD고화질! 모바일지원, 초고속다운, 자유롭게! 영화/애니/방송다운로드!\\n\\n\\n\\n\\n\\n\\n          더보기\\n\\n\\n\\n\\n이전1\\n2\\n3\\n4\\n5\\n6\\n7\\n8\\n9\\n10다음   연관 검색어도움말  신고검색어제안 기능 닫기       현재상영영화     영화순위     현재상영중인영화     더보기  1주일간 닫힘 상태가 유지됩니다. 다시 보시겠습니까?열기           코로나19 현황 확진 현황 및 백신 접종 정보 안내      신속항원검사 내 주변에서 신속하게 검사 받기          우리나라에 이렇게 멋진 곳이? 몰랐던 대한민국 여행지의 재발견      여름 휴가 계획은 지금부터! 인기 있는 해외 여행지 알아보기      정확한 배송일이 궁금하다면? 네이버도착보장 태그를 확인해 보세요      네이버의 다양한 기술 이야기 지금 '네이버 채널 테크'에서 만나보세요!          맨위로    전체서비스 이용약관 개인정보처리방침 통합검색 고객센터 © NAVER Corp.    \""
      ]
     },
     "execution_count": 16,
     "metadata": {},
     "output_type": "execute_result"
    }
   ],
   "source": [
    "url = 'https://search.naver.com/search.naver?where=nexearch'\n",
    "url += '&query=현재상영영화순위&ie=utf8&sm=tab_she&qdt=0'\n",
    "resp = requests.get(url)\n",
    "\n",
    "soup = BeautifulSoup(resp.text)\n",
    "soup.text"
   ]
  },
  {
   "cell_type": "code",
   "execution_count": 17,
   "metadata": {},
   "outputs": [
    {
     "name": "stdout",
     "output_type": "stream",
     "text": [
      "가디언즈 오브 갤럭시: Vo... : 25만명\n",
      "슈퍼 마리오 브라더스 : 8.6만명\n",
      "극장판 짱구는 못말려: 동물... : 5.1만명\n",
      "드림 : 1.7만명\n",
      "스즈메의 문단속 : 1.6만명\n",
      "문재인입니다 : 1.1만명\n",
      "존 윅 4 : 1만명\n",
      "너의 이름은. : 7,133명\n",
      "더 퍼스트 슬램덩크 : 5,454명\n",
      "롱디 : 5,288명\n",
      "옥수역귀신 : 5,011명\n",
      "메리 마이 데드 바디 : 4,506명\n",
      "스트리머 : 2,681명\n",
      "엑소시스트: 더 바티칸 : 2,138명\n",
      "날씨의 아이 : 1,382명\n",
      "거울 속 외딴 성 : 1,363명\n",
      "뮤지컬 공연실황, 알쏭달쏭 ... : 1,301명\n",
      "유랑지구2 : 863명\n",
      "리바운드 : 669명\n",
      "토리와 로키타 : 633명\n",
      "슬픔의 삼각형 : 605명\n",
      "조제, 호랑이 그리고 물고기들 : 498명\n",
      "킬링 로맨스 : 494명\n",
      "클로즈 : 369명\n",
      "2001 스페이스 오디세이 : 349명\n",
      "칠중주: 홍콩 이야기 : 303명\n",
      "항구의 니쿠코짱! : 272명\n",
      "남은 인생 10년 : 188명\n",
      "삶과 죽음의 문제 : 170명\n",
      "007 살인번호 : 159명\n",
      "롱디 : 9.71\n",
      "가디언즈 오브 갤럭시: Vo... : 9.42\n",
      "더 퍼스트 슬램덩크 : 9.27\n",
      "문재인입니다 : 9.15\n",
      "너의 이름은. : 9.01\n",
      "극장판 짱구는 못말려: 동물... : 8.84\n",
      "거울 속 외딴 성 : 8.49\n",
      "리바운드 : 8.48\n",
      "슈퍼 마리오 브라더스 : 8.46\n",
      "존 윅 4 : 8.40\n",
      "날씨의 아이 : 8.39\n",
      "조제, 호랑이 그리고 물고기들 : 8.15\n",
      "항구의 니쿠코짱! : 8.15\n",
      "클로즈 : 8.12\n",
      "스즈메의 문단속 : 8.09\n",
      "토리와 로키타 : 7.78\n",
      "킬링 로맨스 : 7.71\n",
      "스트리머 : 7.52\n",
      "드림 : 7.14\n",
      "옥수역귀신 : 6.97\n"
     ]
    }
   ],
   "source": [
    "movie_title=[]\n",
    "movie_point=[]\n",
    "\n",
    "for line in soup.findAll('div', class_='title_box'):\n",
    "    title = line.find('strong', class_='name') \n",
    "    if title:\n",
    "        movie_title.append(title.get_text().strip('\\n'))\n",
    "    \n",
    "    point = line.find('span', class_='sub_text')\n",
    "    if point :\n",
    "        movie_point.append(point.get_text())\n",
    "\n",
    "for (title, point) in zip(movie_title, movie_point):\n",
    "     print(title, ':', point)"
   ]
  },
  {
   "attachments": {},
   "cell_type": "markdown",
   "metadata": {},
   "source": [
    "//*[@id=\"main_pack\"]/div[2]/div[2]/div/div/div[1]/div/div/ul/li[1]"
   ]
  },
  {
   "cell_type": "code",
   "execution_count": 5,
   "metadata": {},
   "outputs": [],
   "source": [
    "# ! pip install selenium"
   ]
  },
  {
   "cell_type": "code",
   "execution_count": null,
   "metadata": {},
   "outputs": [],
   "source": [
    "from selenium import webdriver\n",
    "\n",
    "driver = webdriver.Chrome()\n",
    "\n",
    "driver.get(\"http://selenium.dev\")\n",
    "\n",
    "driver.quit()"
   ]
  }
 ],
 "metadata": {
  "kernelspec": {
   "display_name": "pandas_study",
   "language": "python",
   "name": "python3"
  },
  "language_info": {
   "codemirror_mode": {
    "name": "ipython",
    "version": 3
   },
   "file_extension": ".py",
   "mimetype": "text/x-python",
   "name": "python",
   "nbconvert_exporter": "python",
   "pygments_lexer": "ipython3",
   "version": "3.11.3"
  },
  "orig_nbformat": 4
 },
 "nbformat": 4,
 "nbformat_minor": 2
}
